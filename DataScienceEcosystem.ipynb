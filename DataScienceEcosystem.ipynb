{
 "cells": [
  {
   "cell_type": "markdown",
   "metadata": {},
   "source": [
    "# Data Science Tools and Ecosyste"
   ]
  },
  {
   "cell_type": "markdown",
   "metadata": {},
   "source": [
    "Data Science Tools and Ecosystem refer to the set of technologies, platforms, and software that support data science workflows. These tools help data scientists collect, clean, analyze, visualize, and model data.\n",
    "\n",
    "Popular programming languages include Python, R, and SQL. Key tools include Jupyter Notebooks, RStudio, and Apache Zeppelin for interactive development. For data visualization, libraries like Matplotlib, Seaborn, and ggplot2 are widely used.\n",
    "\n",
    "Big data tools like Apache Spark and Hadoop handle large-scale data processing, while machine learning libraries such as Scikit-learn, TensorFlow, and Keras support model building. Additionally, cloud platforms like AWS, Azure, and Google Cloud offer scalable resources and tools for deploying data science solutions.\n",
    "\n",
    "Together, these tools form a rich ecosystem that enables effective and efficient data-driven decision-making."
   ]
  },
  {
   "cell_type": "markdown",
   "metadata": {},
   "source": [
    "### Common Languages Used in Data Science\n",
    "\n",
    "Some of the popular languages that Data Scientists use are:\n",
    "\n",
    "1. **Python**: Widely used for its simplicity and rich ecosystem of libraries.\n",
    "2. **R**: Preferred for statistical analysis and data visualization.\n",
    "3. **SQL**: Essential for querying and managing data in relational databases.\n",
    "4. **Java**: Used in large-scale data processing and production environments.\n",
    "5. **Scala**: Commonly used with Apache Spark for big data processing.\n",
    "6. **Julia**: Known for high-performance numerical computing."
   ]
  },
  {
   "cell_type": "markdown",
   "metadata": {},
   "source": [
    "### Objetives:\n",
    "\n",
    "- List popular languages for Data Science\n",
    "- Identify commonly used libraries in Data Science\n",
    "- Describe key open-source development environments used by Data Scientists\n",
    "- Perform basic arithmetic operations in Python\n",
    "- Convert units using Python expressions"
   ]
  },
  {
   "cell_type": "markdown",
   "metadata": {},
   "source": [
    "### Popular Data Science Libraries\n",
    "\n",
    "Some of the commonly used libraries used by Data Scientists include:\n",
    "\n",
    "1. **NumPy**: Fundamental package for numerical computing in Python.\n",
    "2. **Pandas**: Powerful library for data manipulation and analysis.\n",
    "3. **Matplotlib**: Basic plotting and visualization library.\n",
    "4. **Seaborn**: Statistical data visualization built on top of Matplotlib.\n",
    "5. **Scikit-learn**: Machine learning library for classical algorithms.\n",
    "6. **TensorFlow**: Open-source library for deep learning developed by Google.\n",
    "7. **Keras**: High-level neural networks API, running on top of TensorFlow."
   ]
  },
  {
   "cell_type": "markdown",
   "metadata": {},
   "source": [
    "### Data Science Tools\n",
    "\n",
    "| Data Science Tools       |\n",
    "|--------------------------|\n",
    "| Jupyter Notebook         |\n",
    "| RStudio                  |\n",
    "| Google Colab             |\n"
   ]
  },
  {
   "cell_type": "markdown",
   "metadata": {},
   "source": [
    "### Below are a few examples of evaluating arithmetic expressions in Python.\n",
    "\n",
    "You can perform basic arithmetic operations such as addition, subtraction, multiplication, and division using Python syntax. Here are some examples:\n",
    "\n",
    "- `3 + 5` evaluates to `8`\n",
    "- `10 - 2` evaluates to `8`\n",
    "- `4 * 7` evaluates to `28`\n",
    "- `16 / 4` evaluates to `4.0`\n"
   ]
  },
  {
   "cell_type": "code",
   "execution_count": 1,
   "metadata": {},
   "outputs": [
    {
     "data": {
      "text/plain": [
       "17"
      ]
     },
     "execution_count": 1,
     "metadata": {},
     "output_type": "execute_result"
    }
   ],
   "source": [
    "# This is a simple arithmetic expression to multiply then add integers\n",
    "(3 * 4) + 5\n"
   ]
  },
  {
   "cell_type": "code",
   "execution_count": 2,
   "metadata": {},
   "outputs": [
    {
     "name": "stdout",
     "output_type": "stream",
     "text": [
      "3\n"
     ]
    }
   ],
   "source": [
    "# This will convert 200 minutes to hours by dividing by 60\n",
    "time = int(200 / 60)\n",
    "print(time)"
   ]
  },
  {
   "cell_type": "markdown",
   "metadata": {},
   "source": [
    "## Author:\n",
    "Yin Ling Zhong Cai"
   ]
  }
 ],
 "metadata": {
  "kernelspec": {
   "display_name": "Python 3",
   "language": "python",
   "name": "python3"
  },
  "language_info": {
   "codemirror_mode": {
    "name": "ipython",
    "version": 3
   },
   "file_extension": ".py",
   "mimetype": "text/x-python",
   "name": "python",
   "nbconvert_exporter": "python",
   "pygments_lexer": "ipython3",
   "version": "3.13.2"
  }
 },
 "nbformat": 4,
 "nbformat_minor": 2
}
